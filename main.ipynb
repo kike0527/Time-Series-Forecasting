{
 "cells": [
  {
   "cell_type": "markdown",
   "id": "sized-plastic",
   "metadata": {},
   "source": [
    "# Time-series forecasting: Using 2 approaches: 1) Long-Short Term Memory (LSTM) & 2) Prophet (The Facebook's additive reggresion model).\n",
    "\n",
    "* The first approach (LSTM) is an artificial recurrent neural network (RNN) used in the field of deep learning for time-series forecasting due to its capacity to store information over a given period of time.\n",
    "\n",
    "* On the other hand, the Facebook's model: Prophet was made in an attempt to develop a model that could capture seasonality in time-series data. Its able to capture daily, weekly and yearly seasonality along with holiday effects, by implementing additive regression models."
   ]
  },
  {
   "cell_type": "markdown",
   "id": "cognitive-crazy",
   "metadata": {},
   "source": [
    "## The dataset\n",
    "\n",
    "For this exercise, we'll use the stock price history of Google from the Yahoo finance site.\n",
    "Download dataset [HERE](https://finance.yahoo.com/quote/GOOG/history?period1=1433548800&period2=1591833600&interval=1d&filter=history&frequency=1d) or simply use the file in the ./data directory."
   ]
  },
  {
   "cell_type": "markdown",
   "id": "raised-jimmy",
   "metadata": {},
   "source": [
    "## The Code\n",
    "\n",
    "### Import required libraries"
   ]
  },
  {
   "cell_type": "code",
   "execution_count": 1,
   "id": "compact-pierre",
   "metadata": {},
   "outputs": [],
   "source": [
    "import math\n",
    "import matplotlib.pyplot as plt\n",
    "import keras\n",
    "import pandas as pd\n",
    "import numpy as np\n",
    "from keras.models import Sequential\n",
    "from keras.layers import Dense\n",
    "from keras.layers import LSTM\n",
    "from keras.layers import Dropout\n",
    "from keras.layers import *\n",
    "from sklearn.preprocessing import MinMaxScaler\n",
    "from sklearn.metrics import mean_squared_error\n",
    "from sklearn.metrics import mean_absolute_error\n",
    "from sklearn.model_selection import train_test_split\n",
    "from keras.callbacks import EarlyStopping"
   ]
  },
  {
   "cell_type": "markdown",
   "id": "bronze-tuesday",
   "metadata": {},
   "source": [
    "### Load Dataset"
   ]
  },
  {
   "cell_type": "code",
   "execution_count": 71,
   "id": "rotary-soccer",
   "metadata": {},
   "outputs": [
    {
     "name": "stdout",
     "output_type": "stream",
     "text": [
      "Number of rows and columns: (1240, 7)\n"
     ]
    },
    {
     "data": {
      "text/html": [
       "<div>\n",
       "<style scoped>\n",
       "    .dataframe tbody tr th:only-of-type {\n",
       "        vertical-align: middle;\n",
       "    }\n",
       "\n",
       "    .dataframe tbody tr th {\n",
       "        vertical-align: top;\n",
       "    }\n",
       "\n",
       "    .dataframe thead th {\n",
       "        text-align: right;\n",
       "    }\n",
       "</style>\n",
       "<table border=\"1\" class=\"dataframe\">\n",
       "  <thead>\n",
       "    <tr style=\"text-align: right;\">\n",
       "      <th></th>\n",
       "      <th>Date</th>\n",
       "      <th>Open</th>\n",
       "      <th>High</th>\n",
       "      <th>Low</th>\n",
       "      <th>Close</th>\n",
       "      <th>Adj Close</th>\n",
       "      <th>Volume</th>\n",
       "    </tr>\n",
       "  </thead>\n",
       "  <tbody>\n",
       "    <tr>\n",
       "      <th>0</th>\n",
       "      <td>7/9/2015</td>\n",
       "      <td>51.816002</td>\n",
       "      <td>52.590000</td>\n",
       "      <td>51.358002</td>\n",
       "      <td>51.584000</td>\n",
       "      <td>51.584000</td>\n",
       "      <td>16670500</td>\n",
       "    </tr>\n",
       "    <tr>\n",
       "      <th>1</th>\n",
       "      <td>7/10/2015</td>\n",
       "      <td>52.444000</td>\n",
       "      <td>52.599998</td>\n",
       "      <td>51.563999</td>\n",
       "      <td>51.830002</td>\n",
       "      <td>51.830002</td>\n",
       "      <td>13054500</td>\n",
       "    </tr>\n",
       "    <tr>\n",
       "      <th>2</th>\n",
       "      <td>7/13/2015</td>\n",
       "      <td>52.450001</td>\n",
       "      <td>52.509998</td>\n",
       "      <td>51.209999</td>\n",
       "      <td>52.431999</td>\n",
       "      <td>52.431999</td>\n",
       "      <td>14801500</td>\n",
       "    </tr>\n",
       "    <tr>\n",
       "      <th>3</th>\n",
       "      <td>7/14/2015</td>\n",
       "      <td>52.419998</td>\n",
       "      <td>53.198002</td>\n",
       "      <td>52.102001</td>\n",
       "      <td>53.130001</td>\n",
       "      <td>53.130001</td>\n",
       "      <td>9538000</td>\n",
       "    </tr>\n",
       "    <tr>\n",
       "      <th>4</th>\n",
       "      <td>7/15/2015</td>\n",
       "      <td>53.348000</td>\n",
       "      <td>53.498001</td>\n",
       "      <td>52.416000</td>\n",
       "      <td>52.627998</td>\n",
       "      <td>52.627998</td>\n",
       "      <td>10108000</td>\n",
       "    </tr>\n",
       "  </tbody>\n",
       "</table>\n",
       "</div>"
      ],
      "text/plain": [
       "        Date       Open       High        Low      Close  Adj Close    Volume\n",
       "0   7/9/2015  51.816002  52.590000  51.358002  51.584000  51.584000  16670500\n",
       "1  7/10/2015  52.444000  52.599998  51.563999  51.830002  51.830002  13054500\n",
       "2  7/13/2015  52.450001  52.509998  51.209999  52.431999  52.431999  14801500\n",
       "3  7/14/2015  52.419998  53.198002  52.102001  53.130001  53.130001   9538000\n",
       "4  7/15/2015  53.348000  53.498001  52.416000  52.627998  52.627998  10108000"
      ]
     },
     "execution_count": 71,
     "metadata": {},
     "output_type": "execute_result"
    }
   ],
   "source": [
    "df=pd.read_csv(\"./data/data.csv\")\n",
    "print('Number of rows and columns:', df.shape)\n",
    "df.head(5)"
   ]
  },
  {
   "cell_type": "markdown",
   "id": "broad-checklist",
   "metadata": {},
   "source": [
    "### Split dataset into train and test."
   ]
  },
  {
   "cell_type": "code",
   "execution_count": 72,
   "id": "exterior-preference",
   "metadata": {},
   "outputs": [
    {
     "name": "stdout",
     "output_type": "stream",
     "text": [
      "Data points on training set: (800, 1)\n",
      "Data points on test set: (440, 1)\n"
     ]
    }
   ],
   "source": [
    "#Training set is composed of the first 800 points in the time-series.\n",
    "training_set = df.iloc[:800, 1:2].values\n",
    "#Test set is composed by the next 519 values\n",
    "test_set = df.iloc[800:, 1:2].values\n",
    "print('Data points on training set:', training_set.shape)\n",
    "print('Data points on test set:', test_set.shape)"
   ]
  },
  {
   "cell_type": "markdown",
   "id": "exposed-tactics",
   "metadata": {},
   "source": [
    "# >>>>> LTSM Approach <<<<<\n",
    "\n",
    "For this exercise, we're using 60 time steps and 1 output. This is, we're training the model to forecast the point after a given 60 points time-series."
   ]
  },
  {
   "cell_type": "markdown",
   "id": "western-sucking",
   "metadata": {},
   "source": [
    "### Data normalization\n",
    "\n",
    "Normalizing data before model fitting may boost the performance. In this case, we use the min-max normalization."
   ]
  },
  {
   "cell_type": "code",
   "execution_count": 73,
   "id": "metallic-flood",
   "metadata": {},
   "outputs": [
    {
     "name": "stdout",
     "output_type": "stream",
     "text": [
      "(740, 60, 1)\n"
     ]
    }
   ],
   "source": [
    "# Feature Scaling\n",
    "sc = MinMaxScaler(feature_range = (0, 1)) #Min-max normalization\n",
    "#Normalize training set\n",
    "training_set_scaled = sc.fit_transform(training_set)\n",
    "# Creating a data structure with 60 time-steps and 1 output\n",
    "X_train = []\n",
    "y_train = []\n",
    "for i in range(60, 800): #Remember trianing set is composed of 1000 points\n",
    "    X_train.append(training_set_scaled[i-60:i, 0])\n",
    "    y_train.append(training_set_scaled[i, 0])\n",
    "X_train, y_train = np.array(X_train), np.array(y_train)\n",
    "X_train = np.reshape(X_train, (X_train.shape[0], X_train.shape[1], 1))\n",
    "print(X_train.shape) #--> After the 740th position there are no more values to create a 60 values time-series.\n",
    "\n",
    "#At this point, we have reshaped the data into the following format (#values, #time-steps, #1 dimensional output)."
   ]
  },
  {
   "cell_type": "markdown",
   "id": "lesser-mozambique",
   "metadata": {},
   "source": [
    "### Build the model\n",
    "\n",
    "The model is composed by 60 inputs, 4 hidden layers & 1 neuron in the output layer to predict the normalized stock price. It uses the MSE loss function and the Adam stochastic gradient descent optimizer."
   ]
  },
  {
   "cell_type": "code",
   "execution_count": 74,
   "id": "lyric-merchant",
   "metadata": {},
   "outputs": [],
   "source": [
    "model = Sequential()\n",
    "#Adding the first LSTM layer and some Dropout regularisation\n",
    "model.add(LSTM(units = 50, return_sequences = True, input_shape = (X_train.shape[1], 1)))\n",
    "model.add(Dropout(0.2))\n",
    "# Adding a second LSTM layer and some Dropout regularisation\n",
    "model.add(LSTM(units = 50, return_sequences = True))\n",
    "model.add(Dropout(0.2))\n",
    "# Adding a third LSTM layer and some Dropout regularisation\n",
    "model.add(LSTM(units = 50, return_sequences = True))\n",
    "model.add(Dropout(0.2))\n",
    "# Adding a fourth LSTM layer and some Dropout regularisation\n",
    "model.add(LSTM(units = 50))\n",
    "model.add(Dropout(0.2))\n",
    "# Adding the output layer\n",
    "model.add(Dense(units = 1))\n",
    "\n",
    "# Compiling the RNN\n",
    "model.compile(optimizer = 'adam', loss = 'mean_squared_error')\n"
   ]
  },
  {
   "cell_type": "markdown",
   "id": "sunset-melissa",
   "metadata": {},
   "source": [
    "### Train the model"
   ]
  },
  {
   "cell_type": "code",
   "execution_count": 75,
   "id": "numerous-official",
   "metadata": {},
   "outputs": [
    {
     "name": "stdout",
     "output_type": "stream",
     "text": [
      "Epoch 1/100\n",
      "24/24 [==============================] - 5s 42ms/step - loss: 0.1351\n",
      "Epoch 2/100\n",
      "24/24 [==============================] - 1s 44ms/step - loss: 0.0176\n",
      "Epoch 3/100\n",
      "24/24 [==============================] - 1s 44ms/step - loss: 0.0118\n",
      "Epoch 4/100\n",
      "24/24 [==============================] - 1s 44ms/step - loss: 0.0123\n",
      "Epoch 5/100\n",
      "24/24 [==============================] - 1s 44ms/step - loss: 0.0117\n",
      "Epoch 6/100\n",
      "24/24 [==============================] - 1s 44ms/step - loss: 0.0108\n",
      "Epoch 7/100\n",
      "24/24 [==============================] - 1s 44ms/step - loss: 0.0109\n",
      "Epoch 8/100\n",
      "24/24 [==============================] - 1s 45ms/step - loss: 0.0127\n",
      "Epoch 9/100\n",
      "24/24 [==============================] - 1s 44ms/step - loss: 0.0112\n",
      "Epoch 10/100\n",
      "24/24 [==============================] - 1s 44ms/step - loss: 0.0106\n",
      "Epoch 11/100\n",
      "24/24 [==============================] - 1s 44ms/step - loss: 0.0093\n",
      "Epoch 12/100\n",
      "24/24 [==============================] - 1s 44ms/step - loss: 0.0109\n",
      "Epoch 13/100\n",
      "24/24 [==============================] - 1s 44ms/step - loss: 0.0080\n",
      "Epoch 14/100\n",
      "24/24 [==============================] - 1s 44ms/step - loss: 0.0083\n",
      "Epoch 15/100\n",
      "24/24 [==============================] - 1s 45ms/step - loss: 0.0098\n",
      "Epoch 16/100\n",
      "24/24 [==============================] - 1s 44ms/step - loss: 0.0087\n",
      "Epoch 17/100\n",
      "24/24 [==============================] - 1s 44ms/step - loss: 0.0093\n",
      "Epoch 18/100\n",
      "24/24 [==============================] - 1s 44ms/step - loss: 0.0083\n",
      "Epoch 19/100\n",
      "24/24 [==============================] - 1s 44ms/step - loss: 0.0071: 0s - loss: 0.007\n",
      "Epoch 20/100\n",
      "24/24 [==============================] - 1s 44ms/step - loss: 0.0079\n",
      "Epoch 21/100\n",
      "24/24 [==============================] - 1s 44ms/step - loss: 0.0073: 0s - loss\n",
      "Epoch 22/100\n",
      "24/24 [==============================] - 1s 44ms/step - loss: 0.0087\n",
      "Epoch 23/100\n",
      "24/24 [==============================] - 1s 44ms/step - loss: 0.0059\n",
      "Epoch 24/100\n",
      "24/24 [==============================] - 1s 44ms/step - loss: 0.0069\n",
      "Epoch 25/100\n",
      "24/24 [==============================] - 1s 44ms/step - loss: 0.0065\n",
      "Epoch 26/100\n",
      "24/24 [==============================] - 1s 44ms/step - loss: 0.0066\n",
      "Epoch 27/100\n",
      "24/24 [==============================] - 1s 44ms/step - loss: 0.0078\n",
      "Epoch 28/100\n",
      "24/24 [==============================] - 1s 44ms/step - loss: 0.0072\n",
      "Epoch 29/100\n",
      "24/24 [==============================] - 1s 44ms/step - loss: 0.0066\n",
      "Epoch 30/100\n",
      "24/24 [==============================] - 1s 44ms/step - loss: 0.0068\n",
      "Epoch 31/100\n",
      "24/24 [==============================] - 1s 44ms/step - loss: 0.0057\n",
      "Epoch 32/100\n",
      "24/24 [==============================] - 1s 44ms/step - loss: 0.0062\n",
      "Epoch 33/100\n",
      "24/24 [==============================] - 1s 44ms/step - loss: 0.0063\n",
      "Epoch 34/100\n",
      "24/24 [==============================] - 1s 44ms/step - loss: 0.0049\n",
      "Epoch 35/100\n",
      "24/24 [==============================] - 1s 44ms/step - loss: 0.0066\n",
      "Epoch 36/100\n",
      "24/24 [==============================] - 1s 44ms/step - loss: 0.0054\n",
      "Epoch 37/100\n",
      "24/24 [==============================] - 1s 44ms/step - loss: 0.0057\n",
      "Epoch 38/100\n",
      "24/24 [==============================] - 1s 44ms/step - loss: 0.0049\n",
      "Epoch 39/100\n",
      "24/24 [==============================] - 1s 44ms/step - loss: 0.0059\n",
      "Epoch 40/100\n",
      "24/24 [==============================] - 1s 44ms/step - loss: 0.0059\n",
      "Epoch 41/100\n",
      "24/24 [==============================] - 1s 44ms/step - loss: 0.0051\n",
      "Epoch 42/100\n",
      "24/24 [==============================] - 1s 44ms/step - loss: 0.0050\n",
      "Epoch 43/100\n",
      "24/24 [==============================] - 1s 44ms/step - loss: 0.0049\n",
      "Epoch 44/100\n",
      "24/24 [==============================] - 1s 44ms/step - loss: 0.0050\n",
      "Epoch 45/100\n",
      "24/24 [==============================] - 1s 44ms/step - loss: 0.0050\n",
      "Epoch 46/100\n",
      "24/24 [==============================] - 1s 44ms/step - loss: 0.0049\n",
      "Epoch 47/100\n",
      "24/24 [==============================] - 1s 44ms/step - loss: 0.0048\n",
      "Epoch 48/100\n",
      "24/24 [==============================] - 1s 44ms/step - loss: 0.0044\n",
      "Epoch 49/100\n",
      "24/24 [==============================] - 1s 44ms/step - loss: 0.0051\n",
      "Epoch 50/100\n",
      "24/24 [==============================] - 1s 44ms/step - loss: 0.0058\n",
      "Epoch 51/100\n",
      "24/24 [==============================] - 1s 44ms/step - loss: 0.0055\n",
      "Epoch 52/100\n",
      "24/24 [==============================] - 1s 44ms/step - loss: 0.0045\n",
      "Epoch 53/100\n",
      "24/24 [==============================] - 1s 44ms/step - loss: 0.0041\n",
      "Epoch 54/100\n",
      "24/24 [==============================] - 1s 44ms/step - loss: 0.0048\n",
      "Epoch 55/100\n",
      "24/24 [==============================] - 1s 44ms/step - loss: 0.0042\n",
      "Epoch 56/100\n",
      "24/24 [==============================] - 1s 44ms/step - loss: 0.0039\n",
      "Epoch 57/100\n",
      "24/24 [==============================] - 1s 44ms/step - loss: 0.0044\n",
      "Epoch 58/100\n",
      "24/24 [==============================] - 1s 44ms/step - loss: 0.0041\n",
      "Epoch 59/100\n",
      "24/24 [==============================] - 1s 45ms/step - loss: 0.0047\n",
      "Epoch 60/100\n",
      "24/24 [==============================] - 1s 44ms/step - loss: 0.0038\n",
      "Epoch 61/100\n",
      "24/24 [==============================] - 1s 44ms/step - loss: 0.0040\n",
      "Epoch 62/100\n",
      "24/24 [==============================] - 1s 44ms/step - loss: 0.0052\n",
      "Epoch 63/100\n",
      "24/24 [==============================] - 1s 44ms/step - loss: 0.0039\n",
      "Epoch 64/100\n",
      "24/24 [==============================] - 1s 44ms/step - loss: 0.0037\n",
      "Epoch 65/100\n",
      "24/24 [==============================] - 1s 44ms/step - loss: 0.0039\n",
      "Epoch 66/100\n",
      "24/24 [==============================] - 1s 44ms/step - loss: 0.0036\n",
      "Epoch 67/100\n",
      "24/24 [==============================] - 1s 44ms/step - loss: 0.0045\n",
      "Epoch 68/100\n",
      "24/24 [==============================] - 1s 44ms/step - loss: 0.0039\n",
      "Epoch 69/100\n",
      "24/24 [==============================] - 1s 44ms/step - loss: 0.0035\n",
      "Epoch 70/100\n",
      "24/24 [==============================] - 1s 44ms/step - loss: 0.0034\n",
      "Epoch 71/100\n",
      "24/24 [==============================] - 1s 44ms/step - loss: 0.0036\n",
      "Epoch 72/100\n",
      "24/24 [==============================] - 1s 44ms/step - loss: 0.0044: 0s - loss:\n",
      "Epoch 73/100\n",
      "24/24 [==============================] - 1s 44ms/step - loss: 0.0037\n",
      "Epoch 74/100\n",
      "24/24 [==============================] - 1s 44ms/step - loss: 0.0037\n",
      "Epoch 75/100\n",
      "24/24 [==============================] - 1s 44ms/step - loss: 0.0035\n",
      "Epoch 76/100\n",
      "24/24 [==============================] - 1s 44ms/step - loss: 0.0035\n",
      "Epoch 77/100\n",
      "24/24 [==============================] - 1s 44ms/step - loss: 0.0037\n",
      "Epoch 78/100\n",
      "24/24 [==============================] - 1s 44ms/step - loss: 0.0040\n",
      "Epoch 79/100\n",
      "24/24 [==============================] - 1s 44ms/step - loss: 0.0033\n",
      "Epoch 80/100\n",
      "24/24 [==============================] - 1s 44ms/step - loss: 0.0042\n",
      "Epoch 81/100\n",
      "24/24 [==============================] - 1s 44ms/step - loss: 0.0032\n",
      "Epoch 82/100\n",
      "24/24 [==============================] - 1s 44ms/step - loss: 0.0038\n",
      "Epoch 83/100\n",
      "24/24 [==============================] - 1s 45ms/step - loss: 0.0052\n",
      "Epoch 84/100\n",
      "24/24 [==============================] - 1s 44ms/step - loss: 0.0037\n",
      "Epoch 85/100\n",
      "24/24 [==============================] - 1s 44ms/step - loss: 0.0032\n",
      "Epoch 86/100\n",
      "24/24 [==============================] - 1s 44ms/step - loss: 0.0039\n",
      "Epoch 87/100\n",
      "24/24 [==============================] - 1s 44ms/step - loss: 0.0037: 0s - los\n",
      "Epoch 88/100\n",
      "24/24 [==============================] - 1s 44ms/step - loss: 0.0032\n",
      "Epoch 89/100\n",
      "24/24 [==============================] - 1s 46ms/step - loss: 0.0031\n",
      "Epoch 90/100\n",
      "24/24 [==============================] - 1s 46ms/step - loss: 0.0028\n",
      "Epoch 91/100\n",
      "24/24 [==============================] - 1s 44ms/step - loss: 0.0026\n",
      "Epoch 92/100\n",
      "24/24 [==============================] - 1s 44ms/step - loss: 0.0033\n",
      "Epoch 93/100\n",
      "24/24 [==============================] - 1s 44ms/step - loss: 0.0032\n",
      "Epoch 94/100\n",
      "24/24 [==============================] - 1s 44ms/step - loss: 0.0029\n",
      "Epoch 95/100\n",
      "24/24 [==============================] - 1s 44ms/step - loss: 0.0030\n",
      "Epoch 96/100\n",
      "24/24 [==============================] - 1s 44ms/step - loss: 0.0028\n",
      "Epoch 97/100\n",
      "24/24 [==============================] - 1s 44ms/step - loss: 0.0033\n",
      "Epoch 98/100\n",
      "24/24 [==============================] - 1s 44ms/step - loss: 0.0033\n",
      "Epoch 99/100\n",
      "24/24 [==============================] - 1s 44ms/step - loss: 0.0033\n",
      "Epoch 100/100\n",
      "24/24 [==============================] - 1s 44ms/step - loss: 0.0027: 0s - loss: 0.\n"
     ]
    },
    {
     "data": {
      "text/plain": [
       "<tensorflow.python.keras.callbacks.History at 0x225504ab400>"
      ]
     },
     "execution_count": 75,
     "metadata": {},
     "output_type": "execute_result"
    }
   ],
   "source": [
    "# Fitting the RNN to the Training set\n",
    "model.fit(X_train, y_train, epochs = 100, batch_size = 32)"
   ]
  },
  {
   "cell_type": "markdown",
   "id": "racial-hungarian",
   "metadata": {},
   "source": [
    "### Prepare test data (reshape and normalize)"
   ]
  },
  {
   "cell_type": "code",
   "execution_count": 77,
   "id": "future-biology",
   "metadata": {},
   "outputs": [
    {
     "name": "stdout",
     "output_type": "stream",
     "text": [
      "(380, 60, 1)\n"
     ]
    }
   ],
   "source": [
    "dataset_train = df.iloc[:800, 1:2]\n",
    "dataset_test = df.iloc[800:, 1:2]\n",
    "dataset_total = pd.concat((dataset_train, dataset_test), axis = 0)\n",
    "inputs = dataset_total[len(dataset_total) - len(dataset_test) - 60:].values\n",
    "inputs = inputs.reshape(-1,1)\n",
    "inputs = sc.transform(inputs)\n",
    "X_test = []\n",
    "for i in range(60, 440): ##519 values on test data set\n",
    "    X_test.append(inputs[i-60:i, 0])\n",
    "X_test = np.array(X_test)\n",
    "X_test = np.reshape(X_test, (X_test.shape[0], X_test.shape[1], 1))\n",
    "print(X_test.shape)\n",
    "# (380, 60, 1)"
   ]
  },
  {
   "cell_type": "markdown",
   "id": "subsequent-provision",
   "metadata": {},
   "source": [
    "### Make the predictions using the test data set."
   ]
  },
  {
   "cell_type": "code",
   "execution_count": 78,
   "id": "placed-monster",
   "metadata": {},
   "outputs": [],
   "source": [
    "#Get normalized predictions\n",
    "predicted_stock_price = model.predict(X_test)\n",
    "#Denormalize values to get the actual predicted stock price.\n",
    "predicted_stock_price = sc.inverse_transform(predicted_stock_price)\n",
    "#predicted_stock_price = pd.DataFrame(predicted_stock_price)\n",
    "\n"
   ]
  },
  {
   "cell_type": "markdown",
   "id": "purple-premium",
   "metadata": {},
   "source": [
    "### Visualize prediction results (Using LTSM)"
   ]
  },
  {
   "cell_type": "code",
   "execution_count": 82,
   "id": "quality-winning",
   "metadata": {},
   "outputs": [
    {
     "data": {
      "image/png": "[encoded data removed]",
      "text/plain": [
       "<Figure size 1080x288 with 1 Axes>"
      ]
     },
     "metadata": {
      "needs_background": "light"
     },
     "output_type": "display_data"
    }
   ],
   "source": [
    "plt.figure(figsize=(15,4))\n",
    "plt.plot(df.loc[800:, 'Date'],dataset_test.values, color = 'red', label = 'Real Stock Price')\n",
    "plt.plot(df.loc[800:1179, 'Date'],predicted_stock_price, color = 'blue', label = 'Predicted Stock Price')\n",
    "plt.xticks(np.arange(0,380,50))\n",
    "plt.title('Stock Price Prediction - Using LTSM')\n",
    "plt.xlabel('Time')\n",
    "plt.ylabel('Stock Price')\n",
    "plt.legend()\n",
    "plt.show()"
   ]
  },
  {
   "cell_type": "markdown",
   "id": "spatial-bacteria",
   "metadata": {},
   "source": [
    "# >>>>> Prophet Approach <<<<<\n",
    "\n",
    "For this exercise, we will only use the dates and the Close price as features for our model. No need for normalization since the model is already able to do it for ourselves.\n",
    "\n",
    "In order to use the Prophet model we can simply install it by running:\n",
    "> pip install fbprophet"
   ]
  },
  {
   "cell_type": "code",
   "execution_count": 2,
   "id": "quarterly-temperature",
   "metadata": {},
   "outputs": [
    {
     "name": "stdout",
     "output_type": "stream",
     "text": [
      "Number of rows and columns: (1240, 7)\n"
     ]
    },
    {
     "data": {
      "text/html": [
       "<div>\n",
       "<style scoped>\n",
       "    .dataframe tbody tr th:only-of-type {\n",
       "        vertical-align: middle;\n",
       "    }\n",
       "\n",
       "    .dataframe tbody tr th {\n",
       "        vertical-align: top;\n",
       "    }\n",
       "\n",
       "    .dataframe thead th {\n",
       "        text-align: right;\n",
       "    }\n",
       "</style>\n",
       "<table border=\"1\" class=\"dataframe\">\n",
       "  <thead>\n",
       "    <tr style=\"text-align: right;\">\n",
       "      <th></th>\n",
       "      <th>ds</th>\n",
       "      <th>y</th>\n",
       "    </tr>\n",
       "  </thead>\n",
       "  <tbody>\n",
       "    <tr>\n",
       "      <th>0</th>\n",
       "      <td>7/9/2015</td>\n",
       "      <td>51.584000</td>\n",
       "    </tr>\n",
       "    <tr>\n",
       "      <th>1</th>\n",
       "      <td>7/10/2015</td>\n",
       "      <td>51.830002</td>\n",
       "    </tr>\n",
       "    <tr>\n",
       "      <th>2</th>\n",
       "      <td>7/13/2015</td>\n",
       "      <td>52.431999</td>\n",
       "    </tr>\n",
       "    <tr>\n",
       "      <th>3</th>\n",
       "      <td>7/14/2015</td>\n",
       "      <td>53.130001</td>\n",
       "    </tr>\n",
       "    <tr>\n",
       "      <th>4</th>\n",
       "      <td>7/15/2015</td>\n",
       "      <td>52.627998</td>\n",
       "    </tr>\n",
       "  </tbody>\n",
       "</table>\n",
       "</div>"
      ],
      "text/plain": [
       "          ds          y\n",
       "0   7/9/2015  51.584000\n",
       "1  7/10/2015  51.830002\n",
       "2  7/13/2015  52.431999\n",
       "3  7/14/2015  53.130001\n",
       "4  7/15/2015  52.627998"
      ]
     },
     "execution_count": 2,
     "metadata": {},
     "output_type": "execute_result"
    }
   ],
   "source": [
    "#Read dataset\n",
    "df=pd.read_csv(\"./data/data.csv\")\n",
    "print('Number of rows and columns:', df.shape)\n",
    " \n",
    "# Select only the important features i.e. the date and price\n",
    "data = df[[\"Date\",\"Close\"]] # select Date and Price\n",
    "# Rename the features: These names are NEEDED for the model fitting\n",
    "data = data.rename(columns = {\"Date\":\"ds\",\"Close\":\"y\"}) #renaming the columns of the dataset\n",
    "data.head(5)"
   ]
  },
  {
   "cell_type": "markdown",
   "id": "unusual-input",
   "metadata": {},
   "source": [
    "### Import the model"
   ]
  },
  {
   "cell_type": "code",
   "execution_count": 3,
   "id": "complicated-staff",
   "metadata": {},
   "outputs": [
    {
     "name": "stderr",
     "output_type": "stream",
     "text": [
      "Importing plotly failed. Interactive plots will not work.\n"
     ]
    },
    {
     "data": {
      "text/plain": [
       "<fbprophet.forecaster.Prophet at 0x2108c705c18>"
      ]
     },
     "execution_count": 3,
     "metadata": {},
     "output_type": "execute_result"
    }
   ],
   "source": [
    "from fbprophet import Prophet\n",
    "m = Prophet(daily_seasonality = True) # the Prophet class (model)\n",
    "m.fit(data) # fit the model using all data"
   ]
  },
  {
   "cell_type": "markdown",
   "id": "opponent-booth",
   "metadata": {},
   "source": [
    "### Predict the future datapoints\n",
    "\n",
    "The model predicts 365 days on the future (from june 2020 to june 2021). Blue line is the predicted price and blue shadow is the confidential interval."
   ]
  },
  {
   "cell_type": "code",
   "execution_count": 5,
   "id": "global-pledge",
   "metadata": {},
   "outputs": [
    {
     "data": {
      "image/png": "[encoded data removed]",
      "text/plain": [
       "<Figure size 720x432 with 1 Axes>"
      ]
     },
     "metadata": {},
     "output_type": "display_data"
    }
   ],
   "source": [
    "future = m.make_future_dataframe(periods=365) #we need to specify the number of days in future\n",
    "prediction = m.predict(future)\n",
    "m.plot(prediction)\n",
    "plt.title(\"Prediction of Stock Price using the Prophet\")\n",
    "plt.xlabel(\"Date\")\n",
    "plt.ylabel(\"Close Stock Price\")\n",
    "plt.show()"
   ]
  },
  {
   "cell_type": "markdown",
   "id": "requested-phenomenon",
   "metadata": {},
   "source": [
    "#### Side note: Opossite to our LTSM implementation, in this case, we cannot measure the error of the model. If we want to do that, then we should split the data into training and test sets, fit the model using the training set only, predict the prices of the test set and then measure the error using the ground truth price values of the test set."
   ]
  },
  {
   "cell_type": "code",
   "execution_count": null,
   "id": "intermediate-culture",
   "metadata": {},
   "outputs": [],
   "source": []
  }
 ],
 "metadata": {
  "kernelspec": {
   "display_name": "Python 3",
   "language": "python",
   "name": "python3"
  },
  "language_info": {
   "codemirror_mode": {
    "name": "ipython",
    "version": 3
   },
   "file_extension": ".py",
   "mimetype": "text/x-python",
   "name": "python",
   "nbconvert_exporter": "python",
   "pygments_lexer": "ipython3",
   "version": "3.6.5"
  }
 },
 "nbformat": 4,
 "nbformat_minor": 5
}
